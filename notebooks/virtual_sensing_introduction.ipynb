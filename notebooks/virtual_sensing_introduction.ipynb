{
 "cells": [
  {
   "cell_type": "markdown",
   "id": "4fea7160",
   "metadata": {},
   "source": [
    "# Introduction to Virtual Sensing\n",
    "*Created: M.M., 23.5.2024*"
   ]
  },
  {
   "cell_type": "code",
   "execution_count": 1,
   "id": "ee418ace",
   "metadata": {},
   "outputs": [
    {
     "ename": "ModuleNotFoundError",
     "evalue": "No module named 'matplotlib'",
     "output_type": "error",
     "traceback": [
      "\u001b[1;31m---------------------------------------------------------------------------\u001b[0m",
      "\u001b[1;31mModuleNotFoundError\u001b[0m                       Traceback (most recent call last)",
      "Cell \u001b[1;32mIn[1], line 5\u001b[0m\n\u001b[0;32m      3\u001b[0m \u001b[38;5;28;01mfrom\u001b[39;00m \u001b[38;5;21;01mnumpy\u001b[39;00m\u001b[38;5;21;01m.\u001b[39;00m\u001b[38;5;21;01mlinalg\u001b[39;00m \u001b[38;5;28;01mimport\u001b[39;00m matrix_power\n\u001b[0;32m      4\u001b[0m \u001b[38;5;28;01mfrom\u001b[39;00m \u001b[38;5;21;01mscipy\u001b[39;00m \u001b[38;5;28;01mimport\u001b[39;00m signal\n\u001b[1;32m----> 5\u001b[0m \u001b[38;5;28;01mimport\u001b[39;00m \u001b[38;5;21;01mmatplotlib\u001b[39;00m\u001b[38;5;21;01m.\u001b[39;00m\u001b[38;5;21;01mpyplot\u001b[39;00m \u001b[38;5;28;01mas\u001b[39;00m \u001b[38;5;21;01mplt\u001b[39;00m\n\u001b[0;32m      6\u001b[0m \u001b[38;5;28;01mimport\u001b[39;00m \u001b[38;5;21;01mcvxpy\u001b[39;00m \u001b[38;5;28;01mas\u001b[39;00m \u001b[38;5;21;01mcp\u001b[39;00m\n",
      "\u001b[1;31mModuleNotFoundError\u001b[0m: No module named 'matplotlib'"
     ]
    }
   ],
   "source": [
    "import numpy as np\n",
    "from scipy.linalg import expm\n",
    "from numpy.linalg import matrix_power\n",
    "from scipy import signal\n",
    "import matplotlib.pyplot as plt\n",
    "import cvxpy as cp"
   ]
  },
  {
   "cell_type": "markdown",
   "id": "e2ca2336",
   "metadata": {},
   "source": [
    "## 1.1. Contineous linear time-invarient (LTI) systems\n",
    "Consider a contineous-time LTI system\n",
    "\n",
    "\\begin{align}\n",
    "\\dot{x}(t) &= Ax(t) + Bu(t)\\\\\n",
    "y(t) &= Cx(t).\n",
    "\\end{align}\n",
    "\n",
    "To solve the differential equaiton first recall that (cf. [wiki.](https://en.wikipedia.org/wiki/Discretization#Derivation))\n",
    "\n",
    "\\begin{equation}\n",
    "\\frac{\\mathrm{d}}{\\mathrm{d}t}\\left( \\mathrm{e}^{-At}x(t) \\right) = \\mathrm{e}^{-At}\\left(\\dot{x}(t) - Ax(t)\\right)\n",
    "\\end{equation}\n",
    "\n",
    "(by the product rule). Pre-multiplying the state-equation with $\\mathrm{e}^{-At}$ and rearranging the terms gives\n",
    "\n",
    "\\begin{equation}\n",
    "    \\mathrm{e}^{-At}\\left( \\dot{x}(t) - Ax(t) \\right) = \\mathrm{e}^{-At}Bu(t)\n",
    "\\end{equation}\n",
    "\n",
    "or  equivalently\n",
    "\n",
    "\\begin{equation}\n",
    "    \\frac{\\mathrm{d}}{\\mathrm{d}t}\\left( \\mathrm{e}^{-At}x(t) \\right) = \\mathrm{e}^{-At}Bu(t).\n",
    "\\end{equation}\n",
    "\n",
    "Integrating the above expression from $0$ to $t$ gives\n",
    "\n",
    "\\begin{equation}\n",
    "    \\mathrm{e}^{-At}x(t) -  x(0) = \\int_{0}^{t}\\mathrm{e}^{-A(t - \\tau)}Bu(\\tau) \\mathrm{d}\\tau\n",
    "\\end{equation}\n",
    "\n",
    "and multiply by $\\mathrm{e}^{At}$ yields\n",
    "\n",
    "\\begin{equation}\n",
    "    x(t) =  \\mathrm{e}^{At}x(0) + \\int_{0}^{t}\\mathrm{e}^{A(t-\\tau)}Bu(\\tau) \\mathrm{d}\\tau.\n",
    "\\end{equation}\n",
    "\n",
    "The impulse response is obtained by passing the input signal $u(t)=\\delta(t)$, where $\\delta$ is the Dirac's delta function (see e.g. [wiki.](https://en.wikipedia.org/wiki/Dirac_delta_function)). Setting $x(0) = 0$ gives the impulse response\n",
    "\n",
    "\\begin{equation}\n",
    "y_\\delta(t) = C\\mathrm{e}^{At}B.\n",
    "\\end{equation}\n"
   ]
  },
  {
   "cell_type": "code",
   "execution_count": 2,
   "id": "12e63b9f",
   "metadata": {},
   "outputs": [],
   "source": [
    "def impulsec(A,B,C,time):\n",
    "    \"\"\"\n",
    "    IMPULSEC returns the impulse response h of a contineous-time state-space system (A,B,C).\n",
    "    \"\"\"\n",
    "    N = time.shape[0]\n",
    "    m,nb = B.shape\n",
    "    h = np.zeros((N,nb))\n",
    "    for i,t in enumerate(time):\n",
    "       h[i,:] = C@expm(A*t)@B\n",
    "    return h"
   ]
  },
  {
   "cell_type": "markdown",
   "id": "be1fd0ac",
   "metadata": {},
   "source": [
    "## 1.2. Discrete-time LTI systems\n",
    "Given a continous-time state-space model $(A_\\mathrm{c},B_\\mathrm{c},C)$. If measurements $y$ are obtained with a constant sampling time $T_\\mathrm{s}$ at time instances $t \\in \\{kT_\\mathrm{s}$: $k=0,1,2,...\\}$. assuming that $u$ is constant inbetween samples, a discrete-time state space representation is of the form (cf. [wiki.](https://en.wikipedia.org/wiki/Discretization#Derivation))\n",
    "\n",
    "$$\n",
    "\\begin{align}\n",
    "    x(k+1) &= Ax(k) + Bu(k),\\\\\n",
    "    y(k) &= Cx(k),\n",
    "\\end{align}\n",
    "$$\n",
    "\n",
    "where, $u$ is an input vector, and\n",
    "\n",
    "$$\n",
    "\\begin{align}\n",
    "A &= \\mathrm{e}^{A_\\mathrm{c}T_\\mathrm{s}}\\\\\n",
    "B &= A_\\mathrm{c}^{-1}( A - I )B.\n",
    "\\end{align}\n",
    "$$\n",
    "\n",
    "Note that if $A_\\mathrm{c}$ is singular, $B$ cannot be computed in this way. However, there are other ways to compute the $B$ matrix. Below is an implementation of MATLABs `c2d()` function.\n"
   ]
  },
  {
   "cell_type": "code",
   "execution_count": 3,
   "id": "c45261f2",
   "metadata": {},
   "outputs": [],
   "source": [
    "def c2d(A,B,Ts):\n",
    "    \"\"\"\n",
    "    C2D computes a discrete-time model of a system (A_c,B_c) with sample time T_s.\n",
    "    The function returns matrices A,B of the discrete-time system.\n",
    "    \"\"\"\n",
    "    m,n = A.shape\n",
    "    m,nb = B.shape\n",
    "\n",
    "    s = np.concatenate([A,B], axis=1)\n",
    "    s = np.concatenate( [s, np.zeros( (nb,n+nb) )],axis=0 )\n",
    "    S = expm(s*Ts)\n",
    "    Ad = S[0:n,0:n]\n",
    "    Bd = S[0:n,n:n+nb+1]\n",
    "    return Ad, Bd"
   ]
  },
  {
   "cell_type": "markdown",
   "id": "365e078c",
   "metadata": {},
   "source": [
    "### 1.2.1. Impulse response\n",
    "The **impulse response** is is obtained by passing an input signal $u(0)=1$ and $u(k)=0$ for $k\\neq 0$ through the system. For initial state $x(0)=0$, yhe impulse response is\n",
    "\n",
    "\\begin{align}\n",
    "    y_\\delta(0) &= 0\\\\\n",
    "    y_\\delta(1) &= Cx(1) = C(Ax(0) + B) = CB\\\\\n",
    "    y_\\delta(2) &= Cx(2) = C( Ax(1) ) = C( A( Ax(0) + B ) ) = CAB\\\\\n",
    "    &\\vdots \\\\\n",
    "    y_\\delta(n) &= CA^{n-1}B, n>0. \n",
    "\\end{align}\n"
   ]
  },
  {
   "cell_type": "code",
   "execution_count": 4,
   "id": "3b434823",
   "metadata": {},
   "outputs": [],
   "source": [
    "def impulsed(A,B,C,T_s,N):\n",
    "    \"\"\"\n",
    "    IMPULSED returns the impulse response h of a discrete-time state-space system (A,B,C).\n",
    "    \"\"\"\n",
    "    r,n = C.shape\n",
    "    n,nb = B.shape\n",
    "    h = np.zeros((N,nb))\n",
    "    for i in range(N):\n",
    "        if i==0:\n",
    "            h[i,:] = np.zeros((r,nb))\n",
    "        else:\n",
    "            h[i,:] = C@matrix_power(A,i)@B/T_s    #why divide by Ts here?\n",
    "    return h"
   ]
  },
  {
   "cell_type": "markdown",
   "id": "5af815d9",
   "metadata": {},
   "source": [
    "### 1.2.2. The data equation\n",
    "Repeated substitution of $x(k)$ into $y(k)=Cx(k)$ gives\n",
    "\n",
    "$$\n",
    "\\begin{aligned}\n",
    "    y(0) &= Cx(0),\\\\\n",
    "    y(1) &= CAx(0) + Bu(0),\\\\\n",
    "    \\vdots &\\\\\n",
    "    y(n) &= CA^{n}x(0) + \\sum_{k=0}^{n-1} CA^{k}u(n-k-1),\\\\\n",
    "    \\vdots &\n",
    "\\end{aligned}\n",
    "$$\n",
    "\n",
    "or in matrix form\n",
    "\n",
    "$$\n",
    "\\underbrace{\n",
    "\\begin{bmatrix}\n",
    "y(0)\\\\\n",
    "y(1)\\\\\n",
    "y(2)\\\\\n",
    "\\vdots\\\\\n",
    "y(N-1)\n",
    "\\end{bmatrix}\n",
    "}_{y}\n",
    "=\n",
    "\\underbrace{\n",
    "\\begin{bmatrix}\n",
    "C\\\\\n",
    "CA\\\\\n",
    "CA^2\\\\\n",
    "\\vdots\\\\\n",
    "CA^{N-1}\n",
    "\\end{bmatrix}\n",
    "}_{\\mathcal{O}}\n",
    "x(0)\n",
    "+\n",
    "\\underbrace{\n",
    "\\begin{bmatrix}\n",
    "0 &0 &\\cdots &0\\\\\n",
    "CB &0 &\\cdots &0\\\\\n",
    "CAB &CB &\\cdots &0\\\\\n",
    "\\vdots &\\vdots &\\ddots &\\vdots\\\\\n",
    "CA^{N-2}B &CA^{N-3}B &\\cdots &0\n",
    "\\end{bmatrix}\n",
    "}_{\\Gamma}\n",
    "\\underbrace{\n",
    "\\begin{bmatrix}\n",
    "u(0)\\\\u(1)\\\\u(2)\\\\ \\vdots\\\\ u(N-1)\n",
    "\\end{bmatrix}\n",
    "}_{u}.\n",
    "$$\n",
    "\n",
    "The section on *subspace system identification* in the book [Filtering and System Identification](https://books.google.fi/books?hl=sv&lr=&id=6Ne76uYOlVwC&oi=fnd&pg=PR11&dq=verhaegen+least+squares+approach&ots=H7GzIs_Rab&sig=PfKVrPuYiSlWfjI3_tymLiI1-U8&redir_esc=y#v=onepage&q=verhaegen%20least%20squares%20approach&f=false) by Verhaegen, Michel, and Vincent Verdult explains this well (*read*: check that I havent done any mistakes here).\n",
    "\n",
    "* **Note**: This equation is commonly occuring in the control-theory and system identification litterature and is often referred to as the *data equation*. Here I have used the standard notation $\\mathcal{O}$ for the extended observability matrix (which is used for determining stability of a system), and $\\Gamma$ for the impulse response matrix. The impulse response of the system is $h(k) = CA^{k-1}B$. In [(Ikonen et al.,2015)](https://www.sciencedirect.com/science/article/pii/S0165232X14002274), the non-standard notation  $g(k)=h(k)$, $R=y$, $G = \\Gamma$, and $M = u$ was used instead.\n"
   ]
  },
  {
   "cell_type": "code",
   "execution_count": 220,
   "id": "1a58a158",
   "metadata": {},
   "outputs": [],
   "source": [
    "def obsv(A, C, n):\n",
    "    '''\n",
    "    Create the extended observability matrix used in the data equation.\n",
    "\n",
    "    Parameters:\n",
    "\n",
    "    A : numpy.ndarray\n",
    "        The state matrix of the state-space system\n",
    "    C : numpy.ndarray\n",
    "        The observation matrix of the state-space system\n",
    "    n : float\n",
    "        number of measurements\n",
    "\n",
    "    Returns:\n",
    "\n",
    "    O : numpy.ndarray, shape(n, number of state variables)\n",
    "        The extended observability matrix\n",
    "    '''\n",
    "    O = C\n",
    "    for k in range(1, n):\n",
    "        O = np.vstack((O, C @ np.linalg.matrix_power(A, k)))\n",
    "\n",
    "    return O\n",
    "\n",
    "# I got some errors with your function, so I modified the solution I found from stackexchange:\n",
    "# https://scicomp.stackexchange.com/questions/33239/is-there-an-efficient-way-to-form-this-block-matrix-with-numpy-or-scipy\n",
    "\n",
    "def Gamma(A,B,C,N):\n",
    "    '''\n",
    "    Create the impulse response matrix used in the data equation.\n",
    "\n",
    "    Parameters:\n",
    "\n",
    "    A : numpy.ndarray\n",
    "        The state matrix of the state-space system\n",
    "    B : numpy.ndarray\n",
    "        The input matrix of the state-space system\n",
    "    C : numpy.ndarray\n",
    "        The observation matrix of the state-space system\n",
    "    n : float\n",
    "        number of measurements\n",
    "\n",
    "    Returns:\n",
    "\n",
    "    gamma : numpy.ndarray, shape(n*number of state variables, n*number of state variables)\n",
    "        The impulse response matrix\n",
    "    '''\n",
    "    mat_list = []\n",
    "    n = (C@B).shape[0]\n",
    "    m = (C@B).shape[1]\n",
    "    for i in range(N): # generate row\n",
    "        tmp = []\n",
    "        for j in range(N): # loop through A^j*B\n",
    "            if j <= i:\n",
    "                tmp.append(C@np.linalg.matrix_power(A,i-j)@B)\n",
    "        if i < N-1:\n",
    "            tmp.append(np.zeros((n, m*(N-1-i))))\n",
    "        mat_list.append(tmp)\n",
    "        G = np.block(mat_list)\n",
    "        #add zero row and column\n",
    "        n,m = (C@B).shape\n",
    "        ng,mg = G.shape\n",
    "        G = np.append(np.zeros((n,mg)),G,axis=0)\n",
    "        G = np.append(G,np.zeros((n+ng,m)),axis=1)\n",
    "    return G"
   ]
  },
  {
   "cell_type": "markdown",
   "id": "f92b64a8",
   "metadata": {},
   "source": [
    "### 1.2.3. Example: Mass-spring-damper system\n",
    "Let's define a contineous-time 2-mass spring-damper system"
   ]
  },
  {
   "cell_type": "code",
   "execution_count": 6,
   "id": "73ade0b4",
   "metadata": {},
   "outputs": [],
   "source": [
    "# Consider the mass-spring-damper system of the form\n",
    "# dx/dt = Ax + B_1u-1 + B_2u_2\n",
    "# where u_1 is a known input signal, and u_2 is unknown.\n",
    "\n",
    "# spring, damper, mass parameters\n",
    "I_1 = .1    #inertia [kgm^2]\n",
    "I_2 = .5\n",
    "k = 1    #stiffness [Nm/rad]\n",
    "c = .2  #damping [Nm/(rad/s)]\n",
    "\n",
    "#contineous-time state space\n",
    "Ac = np.matrix([[-c/I_1, c/I_1, -k/I_1],[c/I_2, -c/I_2, k/I_2],[1, -1, 0]])\n",
    "Bc = np.matrix([[1/I_1, 0],[0, 1/I_2],[0, 0]])"
   ]
  },
  {
   "cell_type": "markdown",
   "id": "40429319",
   "metadata": {},
   "source": [
    "The discrete-time system is obtaind by assuming zero-order hold (zoh)."
   ]
  },
  {
   "cell_type": "code",
   "execution_count": 11,
   "id": "9253be69",
   "metadata": {},
   "outputs": [],
   "source": [
    "#sampling time\n",
    "Ts = 0.1\n",
    "\n",
    "#discrete-time system\n",
    "A, B = c2d(Ac,Bc,Ts) "
   ]
  },
  {
   "cell_type": "markdown",
   "id": "f9c2db38",
   "metadata": {},
   "source": [
    "The **impulse response** of the discrete and contineous-time systems are compared"
   ]
  },
  {
   "cell_type": "code",
   "execution_count": 14,
   "id": "bedddc1a",
   "metadata": {},
   "outputs": [
    {
     "data": {
      "text/plain": [
       "Text(0.5, 1.0, 'Impulse response u_2 to y')"
      ]
     },
     "execution_count": 14,
     "metadata": {},
     "output_type": "execute_result"
    },
    {
     "data": {
      "image/png": "[encoded data removed]",
      "text/plain": [
       "<Figure size 432x288 with 2 Axes>"
      ]
     },
     "metadata": {
      "needs_background": "light"
     },
     "output_type": "display_data"
    },
    {
     "data": {
      "image/png": "[encoded data removed]",
      "text/plain": [
       "<Figure size 432x288 with 2 Axes>"
      ]
     },
     "metadata": {
      "needs_background": "light"
     },
     "output_type": "display_data"
    }
   ],
   "source": [
    "N = 100\n",
    "t_max = 10\n",
    "Nd = int(t_max/T_s)\n",
    "time = np.linspace(0, t_max, num=N)\n",
    "C = np.array([[1, 0, 0]])\n",
    "\n",
    "#impulse response\n",
    "h_c = impulsec(Ac,Bc,C,time)\n",
    "h_d = impulsed(A,B,C,T_s,Nd)\n",
    "\n",
    "#plot impulse response\n",
    "fig, axs = plt.subplots(1, 2)\n",
    "plt.ylim([-2, 10])\n",
    "axs[0].plot(time,h_c[:,0])\n",
    "axs[1].plot(time,h_c[:,1])\n",
    "\n",
    "axs[0].set_title(\"Impulse response u_1 to y\")\n",
    "axs[1].set_title(\"Impulse response u_2 to y\")\n",
    "\n",
    "#plot impulse response\n",
    "fig, axs = plt.subplots(1, 2)\n",
    "plt.ylim([-2, 10])\n",
    "axs[0].stairs(h_d[:,0])\n",
    "axs[1].stairs(h_d[:,1])\n",
    "\n",
    "axs[0].set_title(\"Impulse response u_1 to y\")\n",
    "axs[1].set_title(\"Impulse response u_2 to y\")"
   ]
  },
  {
   "cell_type": "markdown",
   "id": "9f8b0e19",
   "metadata": {},
   "source": [
    "Next, let's **simulate** the system to generate some data."
   ]
  },
  {
   "cell_type": "code",
   "execution_count": 354,
   "id": "f4dfb2af",
   "metadata": {},
   "outputs": [
    {
     "data": {
      "text/plain": [
       "[<matplotlib.lines.Line2D at 0x1f80078b7f0>]"
      ]
     },
     "execution_count": 354,
     "metadata": {},
     "output_type": "execute_result"
    },
    {
     "data": {
      "image/png": "[encoded data removed]",
      "text/plain": [
       "<Figure size 432x288 with 1 Axes>"
      ]
     },
     "metadata": {
      "needs_background": "light"
     },
     "output_type": "display_data"
    }
   ],
   "source": [
    "\n",
    "def sim(A,B,C,u,x0):\n",
    "    n = A.shape[0]\n",
    "    r = C.shape[0]\n",
    "    x = np.concatenate([x0,np.zeros((n,N-1))],axis=1)\n",
    "    #x = np.zeros((n,N))\n",
    "    y = np.zeros((r,N))\n",
    "    for k in range(N):\n",
    "        if k==0:\n",
    "            y[:,k] = C@x[:,k]\n",
    "        else:\n",
    "            x[:,k] = A@x[:,k-1] + B@u[:,k-1]\n",
    "            y[:,k] = C@x[:,k]\n",
    "    return x, y\n",
    "\n",
    "#simulation parameters\n",
    "N = 100\n",
    "d = np.array([0, 0.34, 0.64, 0.87, 0.98, 0.98, 0.87, 0.64, 0.34, 0]).reshape((1,10))\n",
    "#u1 = np.zeros((1,N))\n",
    "u0 = np.concatenate( [np.zeros((1,45)), 0.5*d, np.zeros((1,45))], axis=1 )\n",
    "u1 = np.concatenate( [np.zeros((1,10)), d, np.zeros((1,30)), -d, np.zeros((1,40))], axis=1 )\n",
    "u = np.concatenate([u0,u1],axis=0)\n",
    "\n",
    "#measurement (angular velocity + twist)\n",
    "C = np.array([[1, 0, 0],[1, -1, 0]])\n",
    "\n",
    "#simulate\n",
    "x0 = np.array([[0.5,0.1,-0.1]]).T\n",
    "x, y = sim(A,B,C,u,x0)\n",
    "\n",
    "#plot\n",
    "plt.plot(y[0,:])\n",
    "plt.plot(y[1,:])\n"
   ]
  },
  {
   "cell_type": "markdown",
   "id": "8fee553e",
   "metadata": {},
   "source": [
    "Compute $\\mathcal{O}$ and $\\Gamma$ in the **data equation**"
   ]
  },
  {
   "cell_type": "code",
   "execution_count": 355,
   "id": "71bf4c58",
   "metadata": {},
   "outputs": [
    {
     "data": {
      "text/plain": [
       "[<matplotlib.lines.Line2D at 0x1f8007fca00>]"
      ]
     },
     "execution_count": 355,
     "metadata": {},
     "output_type": "execute_result"
    },
    {
     "data": {
      "image/png": "[encoded data removed]",
      "text/plain": [
       "<Figure size 432x288 with 1 Axes>"
      ]
     },
     "metadata": {
      "needs_background": "light"
     },
     "output_type": "display_data"
    }
   ],
   "source": [
    "O = obsv(A, C, N)\n",
    "G = Gamma(A, B, C, N-1)\n",
    "\n",
    "# verify that we get the same result as previously using Gamman and Oe\n",
    "U = np.reshape( u.T, (-1,1) )\n",
    "Y = np.reshape( y.T, (-1,1) )\n",
    "yhat = O@x0 + G@U\n",
    "\n",
    "#plot\n",
    "plt.plot(yhat[0::2])\n",
    "plt.plot(yhat[1::2])\n"
   ]
  },
  {
   "cell_type": "markdown",
   "id": "128383a9",
   "metadata": {},
   "source": [
    "## 2.1. Input Estimation by Convex Optimization\n",
    "If $u$ is  unknown input (disturbance), the goal of the estimation is to reconstructed from $N$ measurements $y(0), y(1), .., y(N-1)$\n",
    "\n",
    "In the following paper, the input-estimation problem was posed as an regularized inverse problem.\n",
    "\n",
    "* Ikonen T., Peltokorpi, O. & Karhunen J. (2015),[Inverse ice-induced moment determination on the propeller of an ice-going vessel](https://www.sciencedirect.com/science/article/pii/S0165232X14002274). Cold Regions Science and Technology, 112, 1-13.\n",
    "\n",
    "A more straight-forward derivation of the results presented in the paper is obtained by starting from a state-space representation of the system (see e.g. [Manngård et al., (2018)](https://www.sciencedirect.com/science/article/pii/S0888327022001480), [Manngård et al., (2022)](https://www.sciencedirect.com/science/article/pii/S2405896319321822) on how to represent drivetrains in a state-apace form).\n",
    "\n",
    "###  2.1.1. Tikhonov regularization\n",
    "Since $y,\\mathcal{O},$ and $\\Gamma$ are known, we can, for example, estimate $u$ by solving a Tikhonov-regularized quadratic optimization problem:\n",
    "\n",
    "$$\n",
    "\\underset{u, x(0)}{\\mathrm{min}} || y - \\mathcal{O}x(0) - \\Gamma u ||^2_2 + \\lambda|| Lu ||^2_2,\n",
    "$$\n",
    "\n",
    "where $\\lambda$ is a regularization parameter and $L$ is a regularization matrix (to be determined by the used). The purpose of the matrix $L$ is to enforce additional constraints of the solution, such as smoothness. For $x(0)=0$ the Tikhonov regularized optimization problem has the solution is\n",
    "\n",
    "$$\n",
    "\\hat{u} = \\left(  \\Gamma^\\top \\Gamma + \\lambda L^\\top L  \\right)^{-1} \\Gamma^\\top \\big( y - \\mathcal{O}x(0) \\big).\n",
    "$$\n",
    "\n",
    "* **Note** that we have treated the initial state $x(0)$ as unknown and to be estimated (as is the case in most applications). However, if we set $x(0)=0$, the same solution as in Eq. 33 in the paper by [Ikonen et al.,(2015)](https://www.sciencedirect.com/science/article/pii/S0165232X14002274) is obtained.\n",
    "\n",
    "The difference between this approach, and Kalman filtering is that the Kalman filter produces  optimal estimates of the state $x(n)$ and inputs (disturbances) $u(n)$ based on the observations $y(0),...,y(n)$ observed up until time-instance $n$, whereas the optimization method used all available measurements $\\{y(0),y(1),...,y(n),... y(N)\\}$ as a batch. Thus, the optimization approach is expected to perform better than the Kalman filter. However, the effect that the regularization has on the results may be hard to analyze, and solving the optimization problem in real-time myght be a challenge. Especially if the sampling rate is high.\n"
   ]
  },
  {
   "cell_type": "code",
   "execution_count": 434,
   "id": "d0a1b72d",
   "metadata": {},
   "outputs": [],
   "source": [
    "# Tikhonov regularization\n",
    "def tikhonov_optimization_problem(y, O, gamma, L, lam=1):\n",
    "    '''\n",
    "    Convex optimization methods using the cvxpy library.\n",
    "    '''\n",
    "    u = cp.Variable((gamma.shape[1], 1), complex=False)\n",
    "    x0 = cp.Variable((O.shape[1], 1), complex=False)\n",
    "    objective = cp.Minimize(cp.sum_squares(y - O @ x0 - gamma @ u) + lam * cp.sum_squares(L @ u))\n",
    "    prob = cp.Problem(objective)\n",
    "    prob.solve()\n",
    "\n",
    "    return u.value, x0.value, prob.value\n",
    "\n",
    "# the Tikhnoov regularized regresison problem has an explixit solution for known x0\n",
    "def tikhonov_explicit_solution(y, O, gamma, L, x0, lam=1):\n",
    "    u = np.linalg.inv( gamma.T @ gamma + lam * L.T @ L ) @ gamma.T @ ( y - O @ x0 )\n",
    "    return u\n"
   ]
  },
  {
   "cell_type": "markdown",
   "id": "3cf8a320",
   "metadata": {},
   "source": [
    "Solve the Tikhonov-regularized input-reconstruction problem."
   ]
  },
  {
   "cell_type": "code",
   "execution_count": 554,
   "id": "72463554",
   "metadata": {},
   "outputs": [
    {
     "name": "stdout",
     "output_type": "stream",
     "text": [
      "Estimate of initial state:  [[ 0.52083806  0.10763163 -0.10097614]]\n"
     ]
    },
    {
     "data": {
      "text/plain": [
       "Text(0.5, 1.0, 'Input y')"
      ]
     },
     "execution_count": 554,
     "metadata": {},
     "output_type": "execute_result"
    },
    {
     "data": {
      "image/png": "[encoded data removed]",
      "text/plain": [
       "<Figure size 432x288 with 2 Axes>"
      ]
     },
     "metadata": {
      "needs_background": "light"
     },
     "output_type": "display_data"
    },
    {
     "data": {
      "image/png": "[encoded data removed]",
      "text/plain": [
       "<Figure size 432x288 with 2 Axes>"
      ]
     },
     "metadata": {
      "needs_background": "light"
     },
     "output_type": "display_data"
    }
   ],
   "source": [
    "#regularization matrix\n",
    "L = np.eye(B.shape[1]*N)\n",
    "# add measurement noise\n",
    "e = np.random.normal(0, .01, Y.shape[0]).reshape( (-1,1) )\n",
    "Y_noise = Y + e\n",
    "\n",
    "#solve optimization problem\n",
    "lam = 1000\n",
    "Uhat, x0hat, fval = tikhonov_optimization_problem(Y_noise, O, G, L, lam=0.01)\n",
    "\n",
    "print('Estimate of initial state: ', x0hat.T)\n",
    "\n",
    "#plot estimates\n",
    "fig, axs = plt.subplots(1, 2)\n",
    "axs[0].plot(U[0::2])\n",
    "axs[0].plot(Uhat[0::2])\n",
    "axs[0].set_ylim((-1, 1))\n",
    "axs[0].set_title(\"Input estimate u_0\")\n",
    "\n",
    "axs[1].plot(U[1::2])\n",
    "axs[1].plot(Uhat[1::2])\n",
    "axs[1].set_ylim((-1, 1))\n",
    "axs[1].set_title(\"Input estimate u_1\")\n",
    "\n",
    "fig, axs = plt.subplots(1, 2)\n",
    "axs[0].plot(Y[0::2])\n",
    "axs[0].plot(Y_noise[0::2])\n",
    "axs[0].set_title(\"Input y\")\n",
    "axs[1].plot(Y[1::2])\n",
    "axs[1].plot(Y_noise[1::2])\n",
    "axs[1].set_title(\"Input y\")  #why this gives a warning?\n"
   ]
  },
  {
   "cell_type": "markdown",
   "id": "55b4fd9e",
   "metadata": {},
   "source": [
    "**Remark** In this exemple, the Tikhonov regularized problem does not seem to handle measurement noise that well. The reson for this is mainly that since both inputs are known, we have enough degrees of freedom to overfit to noise. \n",
    "\n",
    "If we want to enforce the input estimates to be smooth, we can determine the weighting matrix $L$ in a way that the second-difference of $u$ is small. Resulting in a smooth trend. This method is commonly known as a [Hodrick-Prescott filter](https://citeseerx.ist.psu.edu/document?repid=rep1&type=pdf&doi=252beab6793faa07d7270cd4ddd9861c20597f4e) (H-P filter).\n",
    "\n",
    "### 2.1.2. Hodrick-Prescott trend filtering\n",
    "In H-P filtering, the regularization term minimizes the $\\ell_2$ norm of the second difference $u(k-1) - 2u(k) + u(k+1)$\n",
    "\n",
    "$$\n",
    "\\underset{u, x(0)}{\\mathrm{min}} || y - \\mathcal{O}x(0) - \\Gamma u ||^2_2 + \\lambda \\sum_{t=1}^{N-1}\\big( u(k-1) - 2u(k) + u(k+1) \\big)^2  .\n",
    "$$\n",
    "\n",
    "If the second difference of a signal is small, the signal is smooth. For scalar inputs, the H-P regularization is exactly of the same form as the Tikhonov regularized optimization problem if we define the $L$ matrix as\n",
    "\n",
    "\\begin{equation}\n",
    "    L =\n",
    "    \\begin{bmatrix}\n",
    "    1 &-2 &1      &       &       & \\\\\n",
    "      &1  &-2     &1      &       & \\\\\n",
    "      &   &\\ddots &\\ddots &\\ddots & \\\\\n",
    "      &   &       &1      &-2     &1\n",
    "    \\end{bmatrix}.\n",
    "\\end{equation}\n",
    "\n",
    "For multiple input signals, the elements in the $L$ needs to be rearranged accordingly. For **example**, if the system has two input signals\n",
    "\n",
    "\\begin{equation}\n",
    "    u(k) = \n",
    "    \\begin{bmatrix}\n",
    "    u_0(k)\\\\\n",
    "    u_1(k)\n",
    "    \\end{bmatrix},\n",
    "    U = \n",
    "    \\begin{bmatrix}\n",
    "    u_0(0)\\\\u_1(0)\\\\\n",
    "    \\hline\n",
    "    u_0(1)\\\\u_1(1)\\\\\n",
    "    \\hline\n",
    "    u_0(2)\\\\u_1(2)\\\\\n",
    "    \\end{bmatrix},\n",
    "\\end{equation}\n",
    "the second difference $D^2U$ can be written in matrix form as\n",
    "\n",
    "\\begin{equation}\n",
    "    \\begin{bmatrix}\n",
    "    u(1) - 2u(1) + u(1)\\\\\n",
    "    \\hline\n",
    "    u(2) - 2u(2) + u(2)\\\\\n",
    "    \\end{bmatrix}\n",
    "    =\n",
    "    \\begin{bmatrix}\n",
    "    u_0(1) - 2u_0(1) + u_0(1)\\\\\n",
    "    u_1(1) - 2u_1(1) + u_1(1)\\\\\n",
    "    \\hline\n",
    "    u_0(2) - 2u_0(2) + u_0(2)\\\\\n",
    "    u_1(2) - 2u_1(2) + u_1(2)\\\\\n",
    " \\end{bmatrix}\n",
    " =\n",
    " \\begin{bmatrix}\n",
    "    1 &0  &-2 &0  &1  &0 &0 &0\\\\\n",
    "    0 &1  &0  &-2 &0  &1 &0 &0\\\\\n",
    "    \\hline\n",
    "    0 &0  &1  &0  &-2 &0 &1 &0\\\\\n",
    "    0 &0  &0  &1  &0  &-2 &0 &1\\\\\n",
    " \\end{bmatrix}\n",
    " \\begin{bmatrix}\n",
    "    u_0(0)\\\\u_1(0)\\\\\n",
    "    \\hline\n",
    "    u_0(1)\\\\u_1(1)\\\\\n",
    "    \\hline\n",
    "    u_0(2)\\\\u_1(2)\\\\\n",
    "  \\end{bmatrix}\n",
    "\\end{equation}\n",
    "\n",
    "\n"
   ]
  },
  {
   "cell_type": "code",
   "execution_count": 518,
   "id": "f01be40e",
   "metadata": {},
   "outputs": [],
   "source": [
    "def second_difference_matrix(N,m):\n",
    "    D2 = np.eye(m*N) - 2*np.eye(m*N, k=2) + np.eye(m*N, k=4)\n",
    "    #delete non-comlete rows\n",
    "    D2 = D2[:-2*m, :]\n",
    "    return D2\n"
   ]
  },
  {
   "cell_type": "markdown",
   "id": "13c32b9b",
   "metadata": {},
   "source": [
    "Solve the H-P regularized input reconstruction problem."
   ]
  },
  {
   "cell_type": "code",
   "execution_count": 539,
   "id": "8623fe3b",
   "metadata": {},
   "outputs": [
    {
     "name": "stdout",
     "output_type": "stream",
     "text": [
      "Estimate of initial state:  [[ 0.49713359  0.09221036 -0.11676612]]\n"
     ]
    },
    {
     "data": {
      "text/plain": [
       "Text(0.5, 1.0, 'Second difference of u_1')"
      ]
     },
     "execution_count": 539,
     "metadata": {},
     "output_type": "execute_result"
    },
    {
     "data": {
      "image/png": "[encoded data removed]",
      "text/plain": [
       "<Figure size 432x288 with 2 Axes>"
      ]
     },
     "metadata": {
      "needs_background": "light"
     },
     "output_type": "display_data"
    },
    {
     "data": {
      "image/png": "[encoded data removed]",
      "text/plain": [
       "<Figure size 432x288 with 2 Axes>"
      ]
     },
     "metadata": {
      "needs_background": "light"
     },
     "output_type": "display_data"
    }
   ],
   "source": [
    "m = B.shape[1]\n",
    "#second-difference matrix\n",
    "D2 = second_difference_matrix( N, m )\n",
    "\n",
    "Uhat_HP, x0hat_HP, fval_HP = tikhonov_optimization_problem(Y_noise, O, G, D2, lam=0.2)\n",
    "\n",
    "print('Estimate of initial state: ', x0hat_HP.T)\n",
    "\n",
    "#plot H-P input estimates\n",
    "fig, axs = plt.subplots(1, 2)\n",
    "axs[0].plot(U[0::2])\n",
    "axs[0].plot(Uhat_HP[0::2])\n",
    "axs[0].set_ylim((-1, 1))\n",
    "axs[0].set_title(\"Input estimate u_0\")\n",
    "\n",
    "axs[1].plot(U[1::2])\n",
    "axs[1].plot(Uhat_HP[1::2])\n",
    "axs[1].set_ylim((-1, 1))\n",
    "axs[1].set_title(\"Input estimate u_1\")\n",
    "\n",
    "#plot second-difference of u\n",
    "D2U = np.abs(D2@Uhat_HP)\n",
    "\n",
    "fig, axs = plt.subplots(1, 2)\n",
    "axs[0].plot(D2U[0::2])\n",
    "axs[0].set_ylim((-1, 1))\n",
    "axs[0].set_title(\"Second difference of u_0\")\n",
    "\n",
    "axs[1].plot(D2U[1::2])\n",
    "axs[1].set_ylim((-1, 1))\n",
    "axs[1].set_title(\"Second difference of u_1\") #why this gives a warning?"
   ]
  },
  {
   "cell_type": "markdown",
   "id": "9e910aeb",
   "metadata": {},
   "source": [
    "### 2.1.3. Trend filtering and sparse optimization\n",
    "If we can assume that a signal is spase,  that is, it is most of the time zero, we can choose replace the $\\ell_2$-norm used in the Tikhonov-regularized problem with the $\\ell_1$ norm. This problem is often called the **LASSO problem**. The reason why $\\ell_1$-norm regularization tends to results in sparse solutions is a whole research topic in itself, see e.g. [E.~Candés et al.](https://link.springer.com/content/pdf/10.1007/s00041-008-9045-x.pdf) and references therein.\n",
    "\n",
    "The $\\ell_1$ regularization results in a convex optimization problem \n",
    "\n",
    "$$\n",
    "\\underset{u, x(0)}{\\mathrm{min}} || y - \\mathcal{O}x(0) - \\Gamma u ||^2_2 + \\lambda|| Lu ||_1 .\n",
    "$$\n",
    "\n",
    "Although there exists no explicit solutions to this type of optimization problems, moderately sized problems can be solved efficiently using numerical convex optimization. A good python package for convex optimization is [CVXPY](https://www.cvxpy.org/).\n",
    "\n",
    "\n"
   ]
  },
  {
   "cell_type": "code",
   "execution_count": 544,
   "id": "040d37cb",
   "metadata": {},
   "outputs": [],
   "source": [
    "def l1_optimization_problem(y, O, gamma, L, lam=1):\n",
    "    '''\n",
    "    Convex optimization methods using the cvxpy library.\n",
    "    '''\n",
    "    u = cp.Variable((gamma.shape[1], 1), complex=False)\n",
    "    x0 = cp.Variable((O.shape[1], 1), complex=False)\n",
    "    objective = cp.Minimize(cp.sum_squares(y - O @ x0 - gamma @ u) + lam * cp.pnorm(L @ u, 1))\n",
    "    prob = cp.Problem(objective)\n",
    "    prob.solve()\n",
    "\n",
    "    return u.value, x0.value, prob.value"
   ]
  },
  {
   "cell_type": "markdown",
   "id": "a5aaec10",
   "metadata": {},
   "source": [
    "Below we solve the $\\ell_1$-regularized input reconstruction problem."
   ]
  },
  {
   "cell_type": "code",
   "execution_count": 551,
   "id": "049be40c",
   "metadata": {},
   "outputs": [
    {
     "name": "stdout",
     "output_type": "stream",
     "text": [
      "Estimate of initial state:  [[ 0.5000294   0.09966    -0.09659835]]\n"
     ]
    },
    {
     "data": {
      "text/plain": [
       "Text(0.5, 1.0, 'Second difference of u_1')"
      ]
     },
     "execution_count": 551,
     "metadata": {},
     "output_type": "execute_result"
    },
    {
     "data": {
      "image/png": "[encoded data removed]",
      "text/plain": [
       "<Figure size 432x288 with 2 Axes>"
      ]
     },
     "metadata": {
      "needs_background": "light"
     },
     "output_type": "display_data"
    },
    {
     "data": {
      "image/png": "[encoded data removed]",
      "text/plain": [
       "<Figure size 432x288 with 2 Axes>"
      ]
     },
     "metadata": {
      "needs_background": "light"
     },
     "output_type": "display_data"
    }
   ],
   "source": [
    "#solve l1 trend filtering problem\n",
    "Uhat_l1, x0hat_l1, fval_l1 = l1_optimization_problem(Y_noise, O, G, L, lam=0.01)\n",
    "\n",
    "print('Estimate of initial state: ', x0hat_l1.T)\n",
    "\n",
    "#plot H-P input estimates\n",
    "fig, axs = plt.subplots(1, 2)\n",
    "axs[0].plot(U[0::2])\n",
    "axs[0].plot(Uhat_l1[0::2])\n",
    "axs[0].set_ylim((-1, 1))\n",
    "axs[0].set_title(\"Input estimate u_0\")\n",
    "\n",
    "axs[1].plot(U[1::2])\n",
    "axs[1].plot(Uhat_l1[1::2])\n",
    "axs[1].set_ylim((-1, 1))\n",
    "axs[1].set_title(\"Input estimate u_1\")\n",
    "\n",
    "#plot second-difference of u\n",
    "D2U = np.abs(D2@Uhat_l1)\n",
    "\n",
    "fig, axs = plt.subplots(1, 2)\n",
    "axs[0].plot(D2U[0::2])\n",
    "axs[0].set_ylim((-1, 1))\n",
    "axs[0].set_title(\"Second difference of u_0\")\n",
    "\n",
    "axs[1].plot(D2U[1::2])\n",
    "axs[1].set_ylim((-1, 1))\n",
    "axs[1].set_title(\"Second difference of u_1\") #why this gives a warning?"
   ]
  },
  {
   "cell_type": "markdown",
   "id": "c8a35f69",
   "metadata": {},
   "source": [
    "We can also enforce other structure in a solution, e.g., sparsity of piece-wise linearity, step-wise changes etc., see [Kim, Seung-Jean, et al, (2009)](https://epubs.siam.org/doi/abs/10.1137/070690274), [Shirdel et al. (2016)](https://www.sciencedirect.com/science/article/pii/S0959152416300531), and [Manngård et al. (2017)](https://www.sciencedirect.com/science/article/pii/B9780444639653500532) by determining $L$ accordingly. An interesting research problem would be on how to determine $L$ to best represent common disturbances acting on propulsion-system drivetrains."
   ]
  },
  {
   "cell_type": "code",
   "execution_count": null,
   "id": "6c67e207",
   "metadata": {},
   "outputs": [],
   "source": []
  },
  {
   "cell_type": "markdown",
   "id": "3a5474f7",
   "metadata": {},
   "source": [
    "### 2.1.4. Estimation of signals with sparse frequency-domain representations\n",
    "In sparse optimization a common assumption is that signals have a sparse Fourier-series representation. In that case, $u$ would be expanded in terms of the Fourier-series coefficients\n",
    "\n",
    "$$\n",
    "u(n) = \\frac{1}{N}\\sum_{k=0}^{N-1} U_k \\mathrm{e}^{\\mathrm{i}2\\pi kn/N},\n",
    "$$\n",
    "and $u = FU$, where the elements of the matrix $F$ are determined by the basis functions coefficients $F_{n,k} = \\mathrm{e}^{\\mathrm{i}2\\pi kn/N}$. The assumption that $u$ only contains a few frequency components (such as harmonic frequencies), i.e. $U$ is sparse, can be enforced by solving the following $\\ell_1$-regularized sparse-optimization problem\n",
    "\n",
    "$$\n",
    "\\underset{U\\in\\mathbb{C}^N, x(0)}{\\mathrm{min}} || y - \\mathcal{O}x(0) - \\Gamma FU ||^2_2 + \\lambda|| U ||_1.\n",
    "$$\n",
    "\n",
    "Note that the unknowns $U_k$ here are complex-valued. Although this increases the complexity of the problem, most convex optimization solvers have no problems handeling complex variables.\n"
   ]
  },
  {
   "cell_type": "code",
   "execution_count": null,
   "id": "6d3c8e72",
   "metadata": {},
   "outputs": [],
   "source": []
  },
  {
   "cell_type": "markdown",
   "id": "bb03c876",
   "metadata": {},
   "source": [
    "# X. Other remarks"
   ]
  },
  {
   "cell_type": "markdown",
   "id": "f16cf5ad",
   "metadata": {},
   "source": [
    "## X.1. Non-uniformly sampled LTI systems\n",
    "M.M. 6.3.2023 - Draft: Not proofread!\n",
    "\n",
    "In practice, systems are often not sampeled with a constant sampling rate. This is especially true for rotating machinery. It is not uncommon that angular velocities, and twist are measured a fixed number of times per revolution. Thus, as the angular velocity changes, the sampling rate is not constant. However, unlike for a Kalman filter which in it's standard form requires a fixed sampling rate, non-uniform sampling rates can quite easily be incorporated in the proposed convex optimization-based estimation framework.\n",
    "\n",
    "Consider a contineous-time LTI system sampeled at time instances $t = t_0, t_1,..., t_n$\n",
    "\n",
    "\\begin{align}\n",
    "\\dot{x}(t) &= Ax(t) + Bu(t)\\\\\n",
    "y(t_k) &= Cx(t_k).\n",
    "\\end{align}\n",
    "\n",
    "To solve the differential equaiton first recall that (cf. [wiki.](https://en.wikipedia.org/wiki/Discretization#Derivation))\n",
    "\n",
    "\\begin{equation}\n",
    "\\frac{\\mathrm{d}}{\\mathrm{d}t}\\left( \\mathrm{e}^{-At}x(t) \\right) = \\mathrm{e}^{-At}\\left(\\dot{x}(t) - Ax(t)\\right)\n",
    "\\end{equation}\n",
    "\n",
    "(by the product rule). Pre-multiplying the state-equation with $\\mathrm{e}^{-At}$ and rearranging the terms gives\n",
    "\n",
    "\\begin{equation}\n",
    "    \\mathrm{e}^{-At}\\left( \\dot{x}(t) - Ax(t) \\right) = \\mathrm{e}^{-At}Bu(t)\n",
    "\\end{equation}\n",
    "\n",
    "or  equivalently\n",
    "\n",
    "\\begin{equation}\n",
    "    \\frac{\\mathrm{d}}{\\mathrm{d}t}\\left( \\mathrm{e}^{-At}x(t) \\right) = \\mathrm{e}^{-At}Bu(t).\n",
    "\\end{equation}\n",
    "\n",
    "Integrating the above expression from $t_k$ to $t_{k+1}$ gives\n",
    "\n",
    "\\begin{equation}\n",
    "    \\mathrm{e}^{-At_{k+1}}x(t_{k+1}) -  \\mathrm{e}^{-At_{k}}x(t_{k}) = \\int_{t_k}^{t_{k+1}}\\mathrm{e}^{-At}Bu(t) \\mathrm{d}t\n",
    "\\end{equation}\n",
    "\n",
    "and multiply by $\\mathrm{e}^{At_{k+1}}$ yields\n",
    "\n",
    "\\begin{equation}\n",
    "    x(t_{k+1}) =  \\mathrm{e}^{A(t_{k+1} - t_{k})}x(t_{k}) + \\int_{t_k}^{t_{k+1}}\\mathrm{e}^{A(t_{k+1} - t)}Bu(t) \\mathrm{d}t.\n",
    "\\end{equation}\n",
    "\n",
    "By assuming that the input is constant inbetween samples (cf. [wiki.](https://en.wikipedia.org/wiki/Discretization#Derivation)), an exact solution to the differential equtions is obtained\n",
    "\n",
    "\\begin{align}\n",
    "    x(t_{k+1}) &=  \\mathrm{e}^{A(t_{k+1} - t_{k})}x(t_{k}) + \\int_{t_k}^{t_{k+1}}\\mathrm{e}^{A(t_{k+1} - t)}\\mathrm{d}t Bu(t_k)\\\\\n",
    "               &=  \\mathrm{e}^{A(t_{k+1} - t_{k})}x(t_{k}) + \\int_{0}^{t_{k+1}-t_k}\\mathrm{e}^{A\\tau}\\mathrm{d}\\tau Bu(t_k)\\\\\n",
    "               &=  \\mathrm{e}^{A(t_{k+1} - t_{k})}x(t_{k}) + A^{-1}\\mathrm{e}^{A\\tau}\\Big|_0^{t_{k+1}-t_k} Bu(t_k)\\\\\n",
    "               &=  \\mathrm{e}^{A(t_{k+1} - t_{k})}x(t_{k}) + \\left( A^{-1}\\mathrm{e}^{A(t_{k+1}-t_k)} - A^{-1} \\right) Bu(t_k)\\\\\n",
    "               &=  \\mathrm{e}^{A(t_{k+1} - t_{k})}x(t_{k}) + A^{-1}\\left( \\mathrm{e}^{A(t_{k+1} - t_k)} - I  \\right)Bu(t_k).\n",
    "\\end{align}\n",
    "\n",
    "The solution is of the form of a time-varying state-space model\n",
    "\\begin{align}\n",
    "x(t_{k+1}) &= A_{k}x(t_k) + B_{k}u(t_k),\\\\\n",
    "y(t_k) &= Cx(t_k)\n",
    "\\end{align}\n",
    "\n",
    "with system matrices defined as\n",
    "\n",
    "\\begin{align}\n",
    "A_{k} &= \\mathrm{e}^{A(t_{k+1} - t_{k})}x(t_{k}),\\\\\n",
    "B_{k} &= A^{-1}( A_k - I  )B,\n",
    "\\end{align}\n",
    "\n",
    "\n",
    "### X.1.1. Impulse response\n",
    "Analogous to the derivation in previous section, we have that, given $x(0)$, the state at time-point $t$ is given by\n",
    "\n",
    "\\begin{equation}\n",
    "    x(t) = \\mathrm{e}^{At}x(0) + \\int_{0}^t \\mathrm{e}^{A\\tau}Bu(\\tau)\\mathrm{d}\\tau,\n",
    "\\end{equation}\n",
    "\n",
    "and the impulse response is obtained by passing the input signal $u(t)=\\delta(\\tau)$, where $\\delta$ is the Dirac's delta function (see e.g. [wiki.](https://en.wikipedia.org/wiki/Dirac_delta_function). For $x(0) = 0$. We have\n",
    "\n",
    "\\begin{align}\n",
    "x(t) &= \\mathrm{e}^{At}x(0) \\int_{0}^t \\mathrm{e}^{A\\tau}B\\delta(\\tau)\\mathrm{d}\\tau = \\mathrm{e}^{At}B,\n",
    "\\end{align}\n",
    "\n",
    "and the impulse response is\n",
    "\n",
    "\\begin{equation}\n",
    "y_\\delta(t) = C\\mathrm{e}^{At}B.\n",
    "\\end{equation}\n",
    "\n",
    "Equivalently, from the results in previous section, the impulse response at time instances $t_0, t_1, ..., t_n$ is\n",
    "\n",
    "\\begin{align}\n",
    "    y_\\delta(t_0) &= 0,\\\\\n",
    "    y_\\delta(t_k) &= C\\mathrm{e}^{At_k}B = C\\left(\\prod_{n=1}^{k-1} A_n\\right)B_0, ~k>0\n",
    "\\end{align}\n",
    "\n",
    "<span style=\"color:red\">Verify this numerically, indices might be wrong! I would expect $B_0 = B$</span>\n",
    "\n",
    "### X.1.2.The data equation\n",
    "The data equation is formed analogously to in the previous section and is given by\n",
    "\n",
    "\\begin{equation}\n",
    "\\begin{bmatrix}\n",
    "y(t_0)\\\\\n",
    "y(t_1)\\\\\n",
    "y(t_2)\\\\\n",
    "y(t_3)\\\\\n",
    "\\vdots\\\\\n",
    "\\end{bmatrix} =\n",
    "\\begin{bmatrix}\n",
    "C\\\\\n",
    "CA_0\\\\\n",
    "CA_1A_0\\\\\n",
    "CA_2A_1A_0\\\\\n",
    "\\vdots\n",
    "\\end{bmatrix}x(t_0)\n",
    "+\n",
    "\\begin{bmatrix}\n",
    "0          &0          &0          &\\cdots\\\\\n",
    "CB_0       &0          &0          &\\cdots\\\\\n",
    "CA_1B_0    &CB_1       &0          &\\cdots\\\\\n",
    "CA_2A_1B_0 &CA_2B_1    &CB_2       &\\cdots\\\\\n",
    "\\vdots     &\\vdots     &\\vdots     &\\ddots\n",
    "\\end{bmatrix}\n",
    "\\begin{bmatrix}\n",
    "u(t_0)\\\\\n",
    "u(t_1)\\\\\n",
    "u(t_2)\\\\\n",
    "u(t_3)\\\\\n",
    "\\vdots\n",
    "\\end{bmatrix}.\n",
    "\\end{equation}\n",
    "\n",
    "Alternatively, the system can be expressed using matrix exponentials by noting that \n",
    "\n",
    "$$\n",
    "A_{n-1} \\cdots A_2A_1A_0 = \\prod_{k=0}^{n-1} A_k = \\mathrm{e}^{A(t_{1}-t_0)}\\mathrm{e}^{A(t_{2}-t_1)}\\mathrm{e}^{A(t_{3}-t_2)} \\cdots \\mathrm{e}^{A(t_{n}-t_{n-1})} = \\mathrm{e}^{A(t_{n}-t_0)}.\n",
    "$$\n",
    "\n",
    "**Note** If the assumption that the input is constant in between samples is to restrictive, some other interpolation model can be applied, e.g. (maybe) the trapetzoidal rule could work."
   ]
  },
  {
   "cell_type": "code",
   "execution_count": null,
   "id": "88ddd1e8",
   "metadata": {},
   "outputs": [],
   "source": []
  }
 ],
 "metadata": {
  "kernelspec": {
   "display_name": "Python 3 (ipykernel)",
   "language": "python",
   "name": "python3"
  },
  "language_info": {
   "codemirror_mode": {
    "name": "ipython",
    "version": 3
   },
   "file_extension": ".py",
   "mimetype": "text/x-python",
   "name": "python",
   "nbconvert_exporter": "python",
   "pygments_lexer": "ipython3",
   "version": "3.12.3"
  }
 },
 "nbformat": 4,
 "nbformat_minor": 5
}
